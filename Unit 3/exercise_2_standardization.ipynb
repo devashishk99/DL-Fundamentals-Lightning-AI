{
  "cells": [
    {
      "cell_type": "markdown",
      "metadata": {
        "id": "view-in-github",
        "colab_type": "text"
      },
      "source": [
        "<a href=\"https://colab.research.google.com/github/devashishk99/DL-Fundamentals-Lightning-AI/blob/main/Unit%203/exercise_2_standardization.ipynb\" target=\"_parent\"><img src=\"https://colab.research.google.com/assets/colab-badge.svg\" alt=\"Open In Colab\"/></a>"
      ]
    },
    {
      "cell_type": "markdown",
      "id": "29dc571a-e16a-47fa-b456-c4d9367b87a5",
      "metadata": {
        "id": "29dc571a-e16a-47fa-b456-c4d9367b87a5"
      },
      "source": [
        "# Unit 3, Exercise 2: Standardization"
      ]
    },
    {
      "cell_type": "markdown",
      "id": "48f20142-5f08-4b33-a4e5-ec1315c5a8ff",
      "metadata": {
        "id": "48f20142-5f08-4b33-a4e5-ec1315c5a8ff"
      },
      "source": [
        "This exercise is an extension of Exercise 1. Here, the goal is to add code to standardize the features such that they have a mean of 0 and a standard deviation of 1 as discussed in Unit 3.7.\n",
        "\n",
        "Most of the code below is identical to Exercise 1. To avoid not spoil the solution for Exercise 1, the same code parts are missing."
      ]
    },
    {
      "cell_type": "markdown",
      "id": "5649ce4a-7db3-4716-9fd1-d2db9af5f834",
      "metadata": {
        "id": "5649ce4a-7db3-4716-9fd1-d2db9af5f834"
      },
      "source": [
        "## 1) Installing Libraries"
      ]
    },
    {
      "cell_type": "markdown",
      "id": "3ea64205-ec41-42db-8167-cd547453354f",
      "metadata": {
        "id": "3ea64205-ec41-42db-8167-cd547453354f"
      },
      "source": [
        "You likely already have all libraries installed and don't need to do anything here."
      ]
    },
    {
      "cell_type": "code",
      "execution_count": null,
      "id": "ac7e723b-08af-4274-8925-bda4ef60f91a",
      "metadata": {
        "id": "ac7e723b-08af-4274-8925-bda4ef60f91a"
      },
      "outputs": [],
      "source": [
        "# !conda install numpy pandas matplotlib --yes"
      ]
    },
    {
      "cell_type": "code",
      "execution_count": null,
      "id": "ee966b7b-27cb-4484-b256-8d79f55dc48a",
      "metadata": {
        "id": "ee966b7b-27cb-4484-b256-8d79f55dc48a"
      },
      "outputs": [],
      "source": [
        "# !pip install torch"
      ]
    },
    {
      "cell_type": "code",
      "execution_count": null,
      "id": "1d5d7bb5-c818-4d8c-b6ce-9c6d8fb4ebdf",
      "metadata": {
        "id": "1d5d7bb5-c818-4d8c-b6ce-9c6d8fb4ebdf"
      },
      "outputs": [],
      "source": [
        "# !conda install watermark"
      ]
    },
    {
      "cell_type": "code",
      "execution_count": null,
      "id": "3822a1f2-6b48-4826-9bf4-adbe06c65a37",
      "metadata": {
        "id": "3822a1f2-6b48-4826-9bf4-adbe06c65a37"
      },
      "outputs": [],
      "source": [
        "%load_ext watermark\n",
        "%watermark -v -p numpy,pandas,matplotlib,torch"
      ]
    },
    {
      "cell_type": "markdown",
      "id": "157c6970-2b47-49a1-ba50-59bf738526ce",
      "metadata": {
        "tags": [],
        "id": "157c6970-2b47-49a1-ba50-59bf738526ce"
      },
      "source": [
        "## 2) Loading the Dataset"
      ]
    },
    {
      "cell_type": "markdown",
      "id": "6638725c-02ee-44db-b661-d882dd191185",
      "metadata": {
        "id": "6638725c-02ee-44db-b661-d882dd191185"
      },
      "source": [
        "We are using the familiar `read_csv` function from pandas to load the dataset:"
      ]
    },
    {
      "cell_type": "code",
      "execution_count": 1,
      "id": "ab70cfad-f8bb-4076-b22e-dffa4f8a48fa",
      "metadata": {
        "id": "ab70cfad-f8bb-4076-b22e-dffa4f8a48fa"
      },
      "outputs": [],
      "source": [
        "import pandas as pd"
      ]
    },
    {
      "cell_type": "code",
      "execution_count": 2,
      "id": "bb8965ae-5222-4541-a7c6-7a9aaa4d1033",
      "metadata": {
        "colab": {
          "base_uri": "https://localhost:8080/",
          "height": 206
        },
        "id": "bb8965ae-5222-4541-a7c6-7a9aaa4d1033",
        "outputId": "eb6ec07b-b37f-4ea9-8fa4-2beaade99744"
      },
      "outputs": [
        {
          "output_type": "execute_result",
          "data": {
            "text/plain": [
              "         0       1       2        3  4\n",
              "0  3.62160  8.6661 -2.8073 -0.44699  0\n",
              "1  4.54590  8.1674 -2.4586 -1.46210  0\n",
              "2  3.86600 -2.6383  1.9242  0.10645  0\n",
              "3  3.45660  9.5228 -4.0112 -3.59440  0\n",
              "4  0.32924 -4.4552  4.5718 -0.98880  0"
            ],
            "text/html": [
              "\n",
              "\n",
              "  <div id=\"df-7b832e41-a5c3-4d4d-b91a-e9a644ccce6d\">\n",
              "    <div class=\"colab-df-container\">\n",
              "      <div>\n",
              "<style scoped>\n",
              "    .dataframe tbody tr th:only-of-type {\n",
              "        vertical-align: middle;\n",
              "    }\n",
              "\n",
              "    .dataframe tbody tr th {\n",
              "        vertical-align: top;\n",
              "    }\n",
              "\n",
              "    .dataframe thead th {\n",
              "        text-align: right;\n",
              "    }\n",
              "</style>\n",
              "<table border=\"1\" class=\"dataframe\">\n",
              "  <thead>\n",
              "    <tr style=\"text-align: right;\">\n",
              "      <th></th>\n",
              "      <th>0</th>\n",
              "      <th>1</th>\n",
              "      <th>2</th>\n",
              "      <th>3</th>\n",
              "      <th>4</th>\n",
              "    </tr>\n",
              "  </thead>\n",
              "  <tbody>\n",
              "    <tr>\n",
              "      <th>0</th>\n",
              "      <td>3.62160</td>\n",
              "      <td>8.6661</td>\n",
              "      <td>-2.8073</td>\n",
              "      <td>-0.44699</td>\n",
              "      <td>0</td>\n",
              "    </tr>\n",
              "    <tr>\n",
              "      <th>1</th>\n",
              "      <td>4.54590</td>\n",
              "      <td>8.1674</td>\n",
              "      <td>-2.4586</td>\n",
              "      <td>-1.46210</td>\n",
              "      <td>0</td>\n",
              "    </tr>\n",
              "    <tr>\n",
              "      <th>2</th>\n",
              "      <td>3.86600</td>\n",
              "      <td>-2.6383</td>\n",
              "      <td>1.9242</td>\n",
              "      <td>0.10645</td>\n",
              "      <td>0</td>\n",
              "    </tr>\n",
              "    <tr>\n",
              "      <th>3</th>\n",
              "      <td>3.45660</td>\n",
              "      <td>9.5228</td>\n",
              "      <td>-4.0112</td>\n",
              "      <td>-3.59440</td>\n",
              "      <td>0</td>\n",
              "    </tr>\n",
              "    <tr>\n",
              "      <th>4</th>\n",
              "      <td>0.32924</td>\n",
              "      <td>-4.4552</td>\n",
              "      <td>4.5718</td>\n",
              "      <td>-0.98880</td>\n",
              "      <td>0</td>\n",
              "    </tr>\n",
              "  </tbody>\n",
              "</table>\n",
              "</div>\n",
              "      <button class=\"colab-df-convert\" onclick=\"convertToInteractive('df-7b832e41-a5c3-4d4d-b91a-e9a644ccce6d')\"\n",
              "              title=\"Convert this dataframe to an interactive table.\"\n",
              "              style=\"display:none;\">\n",
              "\n",
              "  <svg xmlns=\"http://www.w3.org/2000/svg\" height=\"24px\"viewBox=\"0 0 24 24\"\n",
              "       width=\"24px\">\n",
              "    <path d=\"M0 0h24v24H0V0z\" fill=\"none\"/>\n",
              "    <path d=\"M18.56 5.44l.94 2.06.94-2.06 2.06-.94-2.06-.94-.94-2.06-.94 2.06-2.06.94zm-11 1L8.5 8.5l.94-2.06 2.06-.94-2.06-.94L8.5 2.5l-.94 2.06-2.06.94zm10 10l.94 2.06.94-2.06 2.06-.94-2.06-.94-.94-2.06-.94 2.06-2.06.94z\"/><path d=\"M17.41 7.96l-1.37-1.37c-.4-.4-.92-.59-1.43-.59-.52 0-1.04.2-1.43.59L10.3 9.45l-7.72 7.72c-.78.78-.78 2.05 0 2.83L4 21.41c.39.39.9.59 1.41.59.51 0 1.02-.2 1.41-.59l7.78-7.78 2.81-2.81c.8-.78.8-2.07 0-2.86zM5.41 20L4 18.59l7.72-7.72 1.47 1.35L5.41 20z\"/>\n",
              "  </svg>\n",
              "      </button>\n",
              "\n",
              "\n",
              "\n",
              "    <div id=\"df-b6e488a8-a437-423a-944a-7681ada2e514\">\n",
              "      <button class=\"colab-df-quickchart\" onclick=\"quickchart('df-b6e488a8-a437-423a-944a-7681ada2e514')\"\n",
              "              title=\"Suggest charts.\"\n",
              "              style=\"display:none;\">\n",
              "\n",
              "<svg xmlns=\"http://www.w3.org/2000/svg\" height=\"24px\"viewBox=\"0 0 24 24\"\n",
              "     width=\"24px\">\n",
              "    <g>\n",
              "        <path d=\"M19 3H5c-1.1 0-2 .9-2 2v14c0 1.1.9 2 2 2h14c1.1 0 2-.9 2-2V5c0-1.1-.9-2-2-2zM9 17H7v-7h2v7zm4 0h-2V7h2v10zm4 0h-2v-4h2v4z\"/>\n",
              "    </g>\n",
              "</svg>\n",
              "      </button>\n",
              "    </div>\n",
              "\n",
              "<style>\n",
              "  .colab-df-quickchart {\n",
              "    background-color: #E8F0FE;\n",
              "    border: none;\n",
              "    border-radius: 50%;\n",
              "    cursor: pointer;\n",
              "    display: none;\n",
              "    fill: #1967D2;\n",
              "    height: 32px;\n",
              "    padding: 0 0 0 0;\n",
              "    width: 32px;\n",
              "  }\n",
              "\n",
              "  .colab-df-quickchart:hover {\n",
              "    background-color: #E2EBFA;\n",
              "    box-shadow: 0px 1px 2px rgba(60, 64, 67, 0.3), 0px 1px 3px 1px rgba(60, 64, 67, 0.15);\n",
              "    fill: #174EA6;\n",
              "  }\n",
              "\n",
              "  [theme=dark] .colab-df-quickchart {\n",
              "    background-color: #3B4455;\n",
              "    fill: #D2E3FC;\n",
              "  }\n",
              "\n",
              "  [theme=dark] .colab-df-quickchart:hover {\n",
              "    background-color: #434B5C;\n",
              "    box-shadow: 0px 1px 3px 1px rgba(0, 0, 0, 0.15);\n",
              "    filter: drop-shadow(0px 1px 2px rgba(0, 0, 0, 0.3));\n",
              "    fill: #FFFFFF;\n",
              "  }\n",
              "</style>\n",
              "\n",
              "    <script>\n",
              "      async function quickchart(key) {\n",
              "        const containerElement = document.querySelector('#' + key);\n",
              "        const charts = await google.colab.kernel.invokeFunction(\n",
              "            'suggestCharts', [key], {});\n",
              "      }\n",
              "    </script>\n",
              "\n",
              "      <script>\n",
              "\n",
              "function displayQuickchartButton(domScope) {\n",
              "  let quickchartButtonEl =\n",
              "    domScope.querySelector('#df-b6e488a8-a437-423a-944a-7681ada2e514 button.colab-df-quickchart');\n",
              "  quickchartButtonEl.style.display =\n",
              "    google.colab.kernel.accessAllowed ? 'block' : 'none';\n",
              "}\n",
              "\n",
              "        displayQuickchartButton(document);\n",
              "      </script>\n",
              "      <style>\n",
              "    .colab-df-container {\n",
              "      display:flex;\n",
              "      flex-wrap:wrap;\n",
              "      gap: 12px;\n",
              "    }\n",
              "\n",
              "    .colab-df-convert {\n",
              "      background-color: #E8F0FE;\n",
              "      border: none;\n",
              "      border-radius: 50%;\n",
              "      cursor: pointer;\n",
              "      display: none;\n",
              "      fill: #1967D2;\n",
              "      height: 32px;\n",
              "      padding: 0 0 0 0;\n",
              "      width: 32px;\n",
              "    }\n",
              "\n",
              "    .colab-df-convert:hover {\n",
              "      background-color: #E2EBFA;\n",
              "      box-shadow: 0px 1px 2px rgba(60, 64, 67, 0.3), 0px 1px 3px 1px rgba(60, 64, 67, 0.15);\n",
              "      fill: #174EA6;\n",
              "    }\n",
              "\n",
              "    [theme=dark] .colab-df-convert {\n",
              "      background-color: #3B4455;\n",
              "      fill: #D2E3FC;\n",
              "    }\n",
              "\n",
              "    [theme=dark] .colab-df-convert:hover {\n",
              "      background-color: #434B5C;\n",
              "      box-shadow: 0px 1px 3px 1px rgba(0, 0, 0, 0.15);\n",
              "      filter: drop-shadow(0px 1px 2px rgba(0, 0, 0, 0.3));\n",
              "      fill: #FFFFFF;\n",
              "    }\n",
              "  </style>\n",
              "\n",
              "      <script>\n",
              "        const buttonEl =\n",
              "          document.querySelector('#df-7b832e41-a5c3-4d4d-b91a-e9a644ccce6d button.colab-df-convert');\n",
              "        buttonEl.style.display =\n",
              "          google.colab.kernel.accessAllowed ? 'block' : 'none';\n",
              "\n",
              "        async function convertToInteractive(key) {\n",
              "          const element = document.querySelector('#df-7b832e41-a5c3-4d4d-b91a-e9a644ccce6d');\n",
              "          const dataTable =\n",
              "            await google.colab.kernel.invokeFunction('convertToInteractive',\n",
              "                                                     [key], {});\n",
              "          if (!dataTable) return;\n",
              "\n",
              "          const docLinkHtml = 'Like what you see? Visit the ' +\n",
              "            '<a target=\"_blank\" href=https://colab.research.google.com/notebooks/data_table.ipynb>data table notebook</a>'\n",
              "            + ' to learn more about interactive tables.';\n",
              "          element.innerHTML = '';\n",
              "          dataTable['output_type'] = 'display_data';\n",
              "          await google.colab.output.renderOutput(dataTable, element);\n",
              "          const docLink = document.createElement('div');\n",
              "          docLink.innerHTML = docLinkHtml;\n",
              "          element.appendChild(docLink);\n",
              "        }\n",
              "      </script>\n",
              "    </div>\n",
              "  </div>\n"
            ]
          },
          "metadata": {},
          "execution_count": 2
        }
      ],
      "source": [
        "df = pd.read_csv(\"data_banknote_authentication.txt\", header=None)\n",
        "df.head()"
      ]
    },
    {
      "cell_type": "code",
      "execution_count": 3,
      "id": "860304f1-1b8c-4993-b547-20e2dcceb03b",
      "metadata": {
        "id": "860304f1-1b8c-4993-b547-20e2dcceb03b"
      },
      "outputs": [],
      "source": [
        "X_features = df[[0, 1, 2, 3]].values\n",
        "y_labels = df[4].values"
      ]
    },
    {
      "cell_type": "markdown",
      "id": "a4d2ebb2-d83f-4729-85ed-9437e105b9b8",
      "metadata": {
        "id": "a4d2ebb2-d83f-4729-85ed-9437e105b9b8"
      },
      "source": [
        "Number of examples and features:"
      ]
    },
    {
      "cell_type": "code",
      "execution_count": 4,
      "id": "6f342b22-0fde-436a-a121-00e9ce627512",
      "metadata": {
        "colab": {
          "base_uri": "https://localhost:8080/"
        },
        "id": "6f342b22-0fde-436a-a121-00e9ce627512",
        "outputId": "6a505fdb-3119-41c2-e570-36af311f1006"
      },
      "outputs": [
        {
          "output_type": "execute_result",
          "data": {
            "text/plain": [
              "(1372, 4)"
            ]
          },
          "metadata": {},
          "execution_count": 4
        }
      ],
      "source": [
        "X_features.shape"
      ]
    },
    {
      "cell_type": "markdown",
      "id": "7c8e94b9-4847-4833-a7d1-afee3c18991a",
      "metadata": {
        "id": "7c8e94b9-4847-4833-a7d1-afee3c18991a"
      },
      "source": [
        "It is usually a good idea to look at the label distribution:"
      ]
    },
    {
      "cell_type": "code",
      "execution_count": 5,
      "id": "1e8247a8-101d-4195-84d3-12b6593c0099",
      "metadata": {
        "colab": {
          "base_uri": "https://localhost:8080/"
        },
        "id": "1e8247a8-101d-4195-84d3-12b6593c0099",
        "outputId": "ff6c0b0b-4335-47ab-a3a6-d656b7c41c46"
      },
      "outputs": [
        {
          "output_type": "execute_result",
          "data": {
            "text/plain": [
              "array([762, 610])"
            ]
          },
          "metadata": {},
          "execution_count": 5
        }
      ],
      "source": [
        "import numpy as np\n",
        "\n",
        "np.bincount(y_labels)"
      ]
    },
    {
      "cell_type": "markdown",
      "id": "6f7e7578-c57d-4aae-99fc-77603e202185",
      "metadata": {
        "id": "6f7e7578-c57d-4aae-99fc-77603e202185"
      },
      "source": [
        "## 3) Defining a DataLoader"
      ]
    },
    {
      "cell_type": "markdown",
      "id": "705b52c8-1635-40c8-a6f3-8c4d0d91952e",
      "metadata": {
        "id": "705b52c8-1635-40c8-a6f3-8c4d0d91952e"
      },
      "source": [
        "The `DataLoader` code is the same code code we used in Unit 3.6:"
      ]
    },
    {
      "cell_type": "code",
      "execution_count": 6,
      "id": "fa4ba92f-f294-4572-8aa2-d2fa50788a9d",
      "metadata": {
        "id": "fa4ba92f-f294-4572-8aa2-d2fa50788a9d"
      },
      "outputs": [],
      "source": [
        "from torch.utils.data import Dataset, DataLoader\n",
        "\n",
        "\n",
        "class MyDataset(Dataset):\n",
        "    def __init__(self, X, y):\n",
        "\n",
        "        self.features = torch.tensor(X, dtype=torch.float32)\n",
        "        self.labels = torch.tensor(y, dtype=torch.float32)\n",
        "\n",
        "    def __getitem__(self, index):\n",
        "        x = self.features[index]\n",
        "        y = self.labels[index]\n",
        "        return x, y\n",
        "\n",
        "    def __len__(self):\n",
        "        return self.labels.shape[0]"
      ]
    },
    {
      "cell_type": "markdown",
      "id": "e2096f23-539a-40e0-affa-db0ffcd0f371",
      "metadata": {
        "id": "e2096f23-539a-40e0-affa-db0ffcd0f371"
      },
      "source": [
        "We will be using 80% of the data for training, 20% of the data for validation. In a real-project, we would also have a separate dataset for the final test set (in this case, we do not have an explicit test set)."
      ]
    },
    {
      "cell_type": "code",
      "execution_count": 7,
      "id": "f8bbd768-c15c-40f5-8500-83fad5bb1722",
      "metadata": {
        "colab": {
          "base_uri": "https://localhost:8080/"
        },
        "id": "f8bbd768-c15c-40f5-8500-83fad5bb1722",
        "outputId": "876a10bb-6ccb-40e8-db16-0cc50fedac46"
      },
      "outputs": [
        {
          "output_type": "execute_result",
          "data": {
            "text/plain": [
              "1097"
            ]
          },
          "metadata": {},
          "execution_count": 7
        }
      ],
      "source": [
        "train_size = int(X_features.shape[0]*0.80)\n",
        "train_size"
      ]
    },
    {
      "cell_type": "code",
      "execution_count": 8,
      "id": "0b09d3d5-f4f7-47df-8160-8d883c0c5e19",
      "metadata": {
        "colab": {
          "base_uri": "https://localhost:8080/"
        },
        "id": "0b09d3d5-f4f7-47df-8160-8d883c0c5e19",
        "outputId": "5ad97bfc-1b51-4d56-91d0-a95ae7b04f69"
      },
      "outputs": [
        {
          "output_type": "execute_result",
          "data": {
            "text/plain": [
              "275"
            ]
          },
          "metadata": {},
          "execution_count": 8
        }
      ],
      "source": [
        "val_size = X_features.shape[0] - train_size\n",
        "val_size"
      ]
    },
    {
      "cell_type": "markdown",
      "id": "3e21d88e-1408-4457-a7fd-3306a9fac5a6",
      "metadata": {
        "id": "3e21d88e-1408-4457-a7fd-3306a9fac5a6"
      },
      "source": [
        "Using `torch.utils.data.random_split`, we generate the training and validation sets along with the respective data loaders:"
      ]
    },
    {
      "cell_type": "code",
      "execution_count": 9,
      "id": "22a0e19a-de40-4309-b197-368a781a5633",
      "metadata": {
        "id": "22a0e19a-de40-4309-b197-368a781a5633"
      },
      "outputs": [],
      "source": [
        "import torch\n",
        "\n",
        "dataset = MyDataset(X_features, y_labels)\n",
        "\n",
        "torch.manual_seed(1)\n",
        "train_set, val_set = torch.utils.data.random_split(dataset, [train_size, val_size])\n",
        "\n",
        "train_loader = DataLoader(\n",
        "    dataset=train_set,\n",
        "    batch_size=10,\n",
        "    shuffle=True,\n",
        ")\n",
        "\n",
        "val_loader = DataLoader(\n",
        "    dataset=val_set,\n",
        "    batch_size=10,\n",
        "    shuffle=False,\n",
        ")"
      ]
    },
    {
      "cell_type": "markdown",
      "id": "28c59d94-f35f-4981-8f33-e7098f13eb49",
      "metadata": {
        "id": "28c59d94-f35f-4981-8f33-e7098f13eb49"
      },
      "source": [
        "## 4) Standardization"
      ]
    },
    {
      "cell_type": "markdown",
      "id": "f55784ea-7a16-41bc-a997-a91b010c3b05",
      "metadata": {
        "id": "f55784ea-7a16-41bc-a997-a91b010c3b05"
      },
      "source": [
        "There are multiple ways to implement the standardization procedure. For this exercise, we are going to implement a procedure that standardizes the features after we created the data loader.\n",
        "\n",
        "Since this dataset has 4 features, there should be 4 means and 4 standard deviations we compute from the training set. We can do this as follows:"
      ]
    },
    {
      "cell_type": "code",
      "execution_count": 10,
      "id": "b6913a35-3222-463b-8c6f-a52a852ec3f1",
      "metadata": {
        "id": "b6913a35-3222-463b-8c6f-a52a852ec3f1"
      },
      "outputs": [],
      "source": [
        "train_mean = torch.zeros(X_features.shape[1])\n",
        "\n",
        "for x, y in train_loader:\n",
        "    train_mean += x.sum(dim=0)\n",
        "\n",
        "train_mean /= len(train_set)\n",
        "\n",
        "train_std = torch.zeros(X_features.shape[1])\n",
        "for x, y in train_loader:\n",
        "    train_std += ((x - train_mean)**2).sum(dim=0)\n",
        "\n",
        "train_std = torch.sqrt(train_std / (len(train_set)-1))"
      ]
    },
    {
      "cell_type": "code",
      "execution_count": 11,
      "id": "b04ce773-cf79-4ee6-b9aa-daf2b5614f3f",
      "metadata": {
        "colab": {
          "base_uri": "https://localhost:8080/"
        },
        "id": "b04ce773-cf79-4ee6-b9aa-daf2b5614f3f",
        "outputId": "202e6811-0b2d-463b-d570-8a714cba840b"
      },
      "outputs": [
        {
          "output_type": "stream",
          "name": "stdout",
          "text": [
            "Feature means: tensor([ 0.3854,  1.8680,  1.4923, -1.1999])\n",
            "Feature std. devs: tensor([2.8575, 5.9216, 4.3869, 2.1041])\n"
          ]
        }
      ],
      "source": [
        "print(\"Feature means:\", train_mean)\n",
        "print(\"Feature std. devs:\", train_std)"
      ]
    },
    {
      "cell_type": "markdown",
      "id": "ad6422a6-90a7-4f78-a1b0-8f941c8e75a7",
      "metadata": {
        "id": "ad6422a6-90a7-4f78-a1b0-8f941c8e75a7"
      },
      "source": [
        "We compute the means and standard deviations by iterating over the training loader. This is an approach that even works for large datasets where the entire dataset doesn't fit into memory.\n",
        "\n",
        "A simpler approach, which only works for smaller datasets that fit into memory, is as follows:"
      ]
    },
    {
      "cell_type": "code",
      "execution_count": 12,
      "id": "21c5bdab-23c2-47b5-b6bb-65b63ab636d8",
      "metadata": {
        "id": "21c5bdab-23c2-47b5-b6bb-65b63ab636d8"
      },
      "outputs": [],
      "source": [
        "all_x = []\n",
        "for x, y in train_loader:\n",
        "    all_x.append(x)\n",
        "\n",
        "train_std = torch.concat(all_x).std(dim=0)\n",
        "train_mean = torch.concat(all_x).mean(dim=0)"
      ]
    },
    {
      "cell_type": "code",
      "execution_count": 13,
      "id": "f4843bdf-d993-48af-82d7-2f072e3553a1",
      "metadata": {
        "colab": {
          "base_uri": "https://localhost:8080/"
        },
        "id": "f4843bdf-d993-48af-82d7-2f072e3553a1",
        "outputId": "131531e8-7d18-4664-fc76-1f880331f74b"
      },
      "outputs": [
        {
          "output_type": "stream",
          "name": "stdout",
          "text": [
            "Feature means: tensor([ 0.3854,  1.8680,  1.4923, -1.1999])\n",
            "Feature std. devs: tensor([2.8575, 5.9216, 4.3869, 2.1041])\n"
          ]
        }
      ],
      "source": [
        "print(\"Feature means:\", train_mean)\n",
        "print(\"Feature std. devs:\", train_std)"
      ]
    },
    {
      "cell_type": "markdown",
      "id": "931b7e34-215c-424c-8d38-1dc756782025",
      "metadata": {
        "id": "931b7e34-215c-424c-8d38-1dc756782025"
      },
      "source": [
        "<font color='red'>YOUR TASK is now to implement a standardization function based on these training set parameters above:</font>"
      ]
    },
    {
      "cell_type": "code",
      "execution_count": 14,
      "id": "200d3b72-0ee6-492a-8ef1-72fb856e44b3",
      "metadata": {
        "id": "200d3b72-0ee6-492a-8ef1-72fb856e44b3"
      },
      "outputs": [],
      "source": [
        "def standardize(df, train_mean, train_std): # YOUR CODE\n",
        "  return (df - train_mean)/train_std"
      ]
    },
    {
      "cell_type": "markdown",
      "id": "e3a0b2f5-66f5-45e5-9b0a-f4960fc40388",
      "metadata": {
        "id": "e3a0b2f5-66f5-45e5-9b0a-f4960fc40388"
      },
      "source": [
        "## 5) Implementing the model"
      ]
    },
    {
      "cell_type": "markdown",
      "id": "dee409f0-02e0-4591-abf1-5e2c6c41a187",
      "metadata": {
        "id": "dee409f0-02e0-4591-abf1-5e2c6c41a187"
      },
      "source": [
        "Here, we are resusing the same model code we used in Unit 3.6:"
      ]
    },
    {
      "cell_type": "code",
      "execution_count": 15,
      "id": "3da86d9a-7cd5-467c-bf65-3388fe272bd5",
      "metadata": {
        "id": "3da86d9a-7cd5-467c-bf65-3388fe272bd5"
      },
      "outputs": [],
      "source": [
        "class LogisticRegression(torch.nn.Module):\n",
        "\n",
        "    def __init__(self, num_features):\n",
        "        super().__init__()\n",
        "        self.linear = torch.nn.Linear(num_features, 1)\n",
        "\n",
        "    def forward(self, x):\n",
        "        logits = self.linear(x)\n",
        "        probas = torch.sigmoid(logits)\n",
        "        return probas"
      ]
    },
    {
      "cell_type": "markdown",
      "id": "c8340676-a3da-49cf-aeae-c0a3329734c5",
      "metadata": {
        "id": "c8340676-a3da-49cf-aeae-c0a3329734c5"
      },
      "source": [
        "## 6) The training loop"
      ]
    },
    {
      "cell_type": "markdown",
      "id": "1660ca15-18d5-4a55-94f1-e9f543bd8748",
      "metadata": {
        "id": "1660ca15-18d5-4a55-94f1-e9f543bd8748"
      },
      "source": [
        "In this section, we are using the training loop from Unit 3.6. It's the exact same code except for some small modification: We added the line `if not batch_idx % 20` to only print the lost for every 20th batch (to reduce the number of output lines).\n",
        "\n",
        "<font color='red'>YOUR TASK is to use the standardization code correctly in the for loop. Then, find a good learning rate and epoch number to that you achieve a training and validation performance of at least 98%.</font>"
      ]
    },
    {
      "cell_type": "code",
      "execution_count": 16,
      "id": "79c712f6-4e2a-43e9-8563-215f88beb4a8",
      "metadata": {
        "colab": {
          "base_uri": "https://localhost:8080/"
        },
        "id": "79c712f6-4e2a-43e9-8563-215f88beb4a8",
        "outputId": "1d14c292-4420-49d6-c449-6b81507cfc58"
      },
      "outputs": [
        {
          "output_type": "stream",
          "name": "stdout",
          "text": [
            "Epoch: 001/002 | Batch 000/110 | Loss: 0.93\n",
            "Epoch: 001/002 | Batch 020/110 | Loss: 0.08\n",
            "Epoch: 001/002 | Batch 040/110 | Loss: 0.23\n",
            "Epoch: 001/002 | Batch 060/110 | Loss: 0.05\n",
            "Epoch: 001/002 | Batch 080/110 | Loss: 0.03\n",
            "Epoch: 001/002 | Batch 100/110 | Loss: 0.05\n",
            "Epoch: 002/002 | Batch 000/110 | Loss: 0.13\n",
            "Epoch: 002/002 | Batch 020/110 | Loss: 0.02\n",
            "Epoch: 002/002 | Batch 040/110 | Loss: 0.21\n",
            "Epoch: 002/002 | Batch 060/110 | Loss: 0.08\n",
            "Epoch: 002/002 | Batch 080/110 | Loss: 0.07\n",
            "Epoch: 002/002 | Batch 100/110 | Loss: 0.07\n"
          ]
        }
      ],
      "source": [
        "import torch.nn.functional as F\n",
        "\n",
        "\n",
        "torch.manual_seed(1)\n",
        "model = LogisticRegression(num_features=4)\n",
        "optimizer = torch.optim.SGD(model.parameters(), lr=1.) ## possible SOLUTION\n",
        "\n",
        "num_epochs = 2 ## possible SOLUTION\n",
        "\n",
        "for epoch in range(num_epochs):\n",
        "\n",
        "    model = model.train()\n",
        "    for batch_idx, (features, class_labels) in enumerate(train_loader):\n",
        "\n",
        "        features = standardize(features, train_mean, train_std) ## SOLUTION\n",
        "        probas = model(features)\n",
        "\n",
        "        loss = F.binary_cross_entropy(probas, class_labels.view(probas.shape))\n",
        "\n",
        "        optimizer.zero_grad()\n",
        "        loss.backward()\n",
        "        optimizer.step()\n",
        "\n",
        "        ### LOGGING\n",
        "        if not batch_idx % 20: # log every 20th batch\n",
        "            print(f'Epoch: {epoch+1:03d}/{num_epochs:03d}'\n",
        "                   f' | Batch {batch_idx:03d}/{len(train_loader):03d}'\n",
        "                   f' | Loss: {loss:.2f}')"
      ]
    },
    {
      "cell_type": "markdown",
      "id": "41396cca-8920-4edd-9075-588c03d81f01",
      "metadata": {
        "id": "41396cca-8920-4edd-9075-588c03d81f01"
      },
      "source": [
        "## 7) Evaluating the results"
      ]
    },
    {
      "cell_type": "markdown",
      "id": "f458e2cc-011c-48e5-b66a-5ef568114242",
      "metadata": {
        "id": "f458e2cc-011c-48e5-b66a-5ef568114242"
      },
      "source": [
        "Again, reusing the code from Unit 3.6, we will calculate the training and validation set accuracy.\n",
        "\n",
        "<font color='red'>Use the code below as is. What do you observe? And why?</font>"
      ]
    },
    {
      "cell_type": "code",
      "execution_count": 17,
      "id": "4b6473aa-98ac-4ffe-84b5-cb5a2d511018",
      "metadata": {
        "id": "4b6473aa-98ac-4ffe-84b5-cb5a2d511018"
      },
      "outputs": [],
      "source": [
        "def compute_accuracy(model, dataloader):\n",
        "\n",
        "    model = model.eval()\n",
        "\n",
        "    correct = 0.0\n",
        "    total_examples = 0\n",
        "\n",
        "    for idx, (features, class_labels) in enumerate(dataloader):\n",
        "\n",
        "        with torch.no_grad():\n",
        "            probas = model(features)\n",
        "\n",
        "        pred = torch.where(probas > 0.5, 1, 0)\n",
        "        lab = class_labels.view(pred.shape).to(pred.dtype)\n",
        "\n",
        "        compare = lab == pred\n",
        "        correct += torch.sum(compare)\n",
        "        total_examples += len(compare)\n",
        "\n",
        "    return correct / total_examples"
      ]
    },
    {
      "cell_type": "code",
      "execution_count": 18,
      "id": "2c4e70f5-0fbd-4782-a7b0-75c687c5b6d9",
      "metadata": {
        "tags": [],
        "colab": {
          "base_uri": "https://localhost:8080/"
        },
        "id": "2c4e70f5-0fbd-4782-a7b0-75c687c5b6d9",
        "outputId": "08e2aebd-103f-4d79-8103-f78ff5aa7a79"
      },
      "outputs": [
        {
          "output_type": "stream",
          "name": "stdout",
          "text": [
            "Accuracy: 83.96%\n"
          ]
        }
      ],
      "source": [
        "train_acc = compute_accuracy(model, train_loader)\n",
        "print(f\"Accuracy: {train_acc*100:.2f}%\")"
      ]
    },
    {
      "cell_type": "markdown",
      "id": "c01e464b-cc38-41b7-9d7f-6baafba73f56",
      "metadata": {
        "id": "c01e464b-cc38-41b7-9d7f-6baafba73f56"
      },
      "source": [
        "<font color='red'>Notice that the code validation accuracy is not shown? It's part of the exercise to implement it :)</font>"
      ]
    },
    {
      "cell_type": "code",
      "execution_count": 20,
      "id": "7edead56-db64-4667-8007-937ab1974ac0",
      "metadata": {
        "colab": {
          "base_uri": "https://localhost:8080/"
        },
        "id": "7edead56-db64-4667-8007-937ab1974ac0",
        "outputId": "2a713415-dbdb-47f4-8071-a67f1f3ae487"
      },
      "outputs": [
        {
          "output_type": "stream",
          "name": "stdout",
          "text": [
            "Accuracy: 80.36%\n"
          ]
        }
      ],
      "source": [
        "## SOLUTION\n",
        "\n",
        "val_acc = compute_accuracy(model, val_loader)\n",
        "print(f\"Accuracy: {val_acc*100:.2f}%\")"
      ]
    },
    {
      "cell_type": "markdown",
      "id": "86d11c57-daf1-4d33-a609-99184c59752d",
      "metadata": {
        "id": "86d11c57-daf1-4d33-a609-99184c59752d"
      },
      "source": [
        "<font color='red'>Now, add the standardization to the `compute_accuracy` function above and recompute the training and validation accuracy. What do you observe?</font>"
      ]
    },
    {
      "cell_type": "code",
      "source": [
        "def compute_accuracy(model, dataloader):\n",
        "\n",
        "    model = model.eval()\n",
        "\n",
        "    correct = 0.0\n",
        "    total_examples = 0\n",
        "\n",
        "    for idx, (features, class_labels) in enumerate(dataloader):\n",
        "\n",
        "        features = standardize(features, train_mean, train_std) ## SOLUTION\n",
        "        with torch.no_grad():\n",
        "            probas = model(features)\n",
        "\n",
        "        pred = torch.where(probas > 0.5, 1, 0)\n",
        "        lab = class_labels.view(pred.shape).to(pred.dtype)\n",
        "\n",
        "        compare = lab == pred\n",
        "        correct += torch.sum(compare)\n",
        "        total_examples += len(compare)\n",
        "\n",
        "    return correct / total_examples"
      ],
      "metadata": {
        "id": "yX9vFQT2ca5E"
      },
      "id": "yX9vFQT2ca5E",
      "execution_count": 21,
      "outputs": []
    },
    {
      "cell_type": "code",
      "execution_count": 22,
      "metadata": {
        "tags": [],
        "colab": {
          "base_uri": "https://localhost:8080/"
        },
        "outputId": "f9c28bc5-80b8-4e3a-f77a-f237a20e3fe7",
        "id": "O20VYdlGcuCm"
      },
      "outputs": [
        {
          "output_type": "stream",
          "name": "stdout",
          "text": [
            "Accuracy: 98.09%\n"
          ]
        }
      ],
      "source": [
        "train_acc = compute_accuracy(model, train_loader)\n",
        "print(f\"Accuracy: {train_acc*100:.2f}%\")"
      ],
      "id": "O20VYdlGcuCm"
    },
    {
      "cell_type": "code",
      "source": [
        "val_acc = compute_accuracy(model, val_loader)\n",
        "print(f\"Accuracy: {val_acc*100:.2f}%\")"
      ],
      "metadata": {
        "colab": {
          "base_uri": "https://localhost:8080/"
        },
        "id": "nmNOm1Rqcq8-",
        "outputId": "2a2d604d-1051-4e28-8d9f-7ba38f4b795f"
      },
      "id": "nmNOm1Rqcq8-",
      "execution_count": 23,
      "outputs": [
        {
          "output_type": "stream",
          "name": "stdout",
          "text": [
            "Accuracy: 98.18%\n"
          ]
        }
      ]
    }
  ],
  "metadata": {
    "kernelspec": {
      "display_name": "Python 3 (ipykernel)",
      "language": "python",
      "name": "python3"
    },
    "language_info": {
      "codemirror_mode": {
        "name": "ipython",
        "version": 3
      },
      "file_extension": ".py",
      "mimetype": "text/x-python",
      "name": "python",
      "nbconvert_exporter": "python",
      "pygments_lexer": "ipython3",
      "version": "3.9.7"
    },
    "colab": {
      "provenance": [],
      "include_colab_link": true
    }
  },
  "nbformat": 4,
  "nbformat_minor": 5
}