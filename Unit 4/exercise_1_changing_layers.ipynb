{
  "cells": [
    {
      "cell_type": "markdown",
      "metadata": {
        "id": "view-in-github",
        "colab_type": "text"
      },
      "source": [
        "<a href=\"https://colab.research.google.com/github/devashishk99/DL-Fundamentals-Lightning-AI/blob/main/Unit%204/exercise_1_changing_layers.ipynb\" target=\"_parent\"><img src=\"https://colab.research.google.com/assets/colab-badge.svg\" alt=\"Open In Colab\"/></a>"
      ]
    },
    {
      "cell_type": "markdown",
      "id": "d71bce70-9dc3-448b-9f9a-8896e83b6d09",
      "metadata": {
        "id": "d71bce70-9dc3-448b-9f9a-8896e83b6d09"
      },
      "source": [
        "# Implementing a Multilayer Perceptron (MNIST)"
      ]
    },
    {
      "cell_type": "markdown",
      "id": "e5b48fc7-4f46-4d5a-8558-cd06892aaa27",
      "metadata": {
        "id": "e5b48fc7-4f46-4d5a-8558-cd06892aaa27"
      },
      "source": [
        "## 1) Installing Libraries"
      ]
    },
    {
      "cell_type": "code",
      "execution_count": null,
      "id": "be1f5a9a-b3ee-424b-ab02-4371f49bd786",
      "metadata": {
        "id": "be1f5a9a-b3ee-424b-ab02-4371f49bd786"
      },
      "outputs": [],
      "source": [
        "# !conda install numpy pandas matplotlib --yes"
      ]
    },
    {
      "cell_type": "code",
      "execution_count": null,
      "id": "1ea7b3b8-9092-4b37-8b7f-57362be611ad",
      "metadata": {
        "id": "1ea7b3b8-9092-4b37-8b7f-57362be611ad"
      },
      "outputs": [],
      "source": [
        "# !pip install torch torchvision torchaudio"
      ]
    },
    {
      "cell_type": "code",
      "execution_count": null,
      "id": "79dd2077-ba5c-4ab5-95fc-6ee4d8a9f811",
      "metadata": {
        "id": "79dd2077-ba5c-4ab5-95fc-6ee4d8a9f811"
      },
      "outputs": [],
      "source": [
        "# !conda install watermark"
      ]
    },
    {
      "cell_type": "code",
      "execution_count": null,
      "id": "bc4fa295-5c62-4888-bcf8-d07d6a7afc47",
      "metadata": {
        "id": "bc4fa295-5c62-4888-bcf8-d07d6a7afc47",
        "outputId": "c41a30f7-f581-4f6b-a1e8-5092702802fa"
      },
      "outputs": [
        {
          "name": "stdout",
          "output_type": "stream",
          "text": [
            "Python implementation: CPython\n",
            "Python version       : 3.10.9\n",
            "IPython version      : 8.7.0\n",
            "\n",
            "numpy     : 1.23.5\n",
            "pandas    : not installed\n",
            "matplotlib: 3.6.3\n",
            "torch     : 1.13.1\n",
            "\n"
          ]
        }
      ],
      "source": [
        "%load_ext watermark\n",
        "%watermark -v -p numpy,pandas,matplotlib,torch"
      ]
    },
    {
      "cell_type": "markdown",
      "id": "b9549676-2fa5-41a7-bbb9-ce03f5797c34",
      "metadata": {
        "id": "b9549676-2fa5-41a7-bbb9-ce03f5797c34"
      },
      "source": [
        "## 2) Loading the dataset"
      ]
    },
    {
      "cell_type": "markdown",
      "id": "e002ad95-a1f7-4c33-826a-4a45944f2687",
      "metadata": {
        "id": "e002ad95-a1f7-4c33-826a-4a45944f2687"
      },
      "source": [
        "- MNIST website: http://yann.lecun.com/exdb/mnist/"
      ]
    },
    {
      "cell_type": "code",
      "execution_count": 1,
      "id": "f609024c-3eae-4ad5-8cb8-b95b403b7606",
      "metadata": {
        "colab": {
          "base_uri": "https://localhost:8080/"
        },
        "id": "f609024c-3eae-4ad5-8cb8-b95b403b7606",
        "outputId": "214abd50-3fa5-4142-ab91-d1eba6a29460"
      },
      "outputs": [
        {
          "output_type": "stream",
          "name": "stdout",
          "text": [
            "Downloading http://yann.lecun.com/exdb/mnist/train-images-idx3-ubyte.gz\n",
            "Downloading http://yann.lecun.com/exdb/mnist/train-images-idx3-ubyte.gz to ./mnist/MNIST/raw/train-images-idx3-ubyte.gz\n"
          ]
        },
        {
          "output_type": "stream",
          "name": "stderr",
          "text": [
            "100%|██████████| 9912422/9912422 [00:00<00:00, 95772074.99it/s]"
          ]
        },
        {
          "output_type": "stream",
          "name": "stdout",
          "text": [
            "Extracting ./mnist/MNIST/raw/train-images-idx3-ubyte.gz to ./mnist/MNIST/raw\n"
          ]
        },
        {
          "output_type": "stream",
          "name": "stderr",
          "text": [
            "\n"
          ]
        },
        {
          "output_type": "stream",
          "name": "stdout",
          "text": [
            "\n",
            "Downloading http://yann.lecun.com/exdb/mnist/train-labels-idx1-ubyte.gz\n",
            "Downloading http://yann.lecun.com/exdb/mnist/train-labels-idx1-ubyte.gz to ./mnist/MNIST/raw/train-labels-idx1-ubyte.gz\n"
          ]
        },
        {
          "output_type": "stream",
          "name": "stderr",
          "text": [
            "100%|██████████| 28881/28881 [00:00<00:00, 29063266.27it/s]"
          ]
        },
        {
          "output_type": "stream",
          "name": "stdout",
          "text": [
            "Extracting ./mnist/MNIST/raw/train-labels-idx1-ubyte.gz to ./mnist/MNIST/raw\n",
            "\n",
            "Downloading http://yann.lecun.com/exdb/mnist/t10k-images-idx3-ubyte.gz\n"
          ]
        },
        {
          "output_type": "stream",
          "name": "stderr",
          "text": [
            "\n"
          ]
        },
        {
          "output_type": "stream",
          "name": "stdout",
          "text": [
            "Downloading http://yann.lecun.com/exdb/mnist/t10k-images-idx3-ubyte.gz to ./mnist/MNIST/raw/t10k-images-idx3-ubyte.gz\n"
          ]
        },
        {
          "output_type": "stream",
          "name": "stderr",
          "text": [
            "100%|██████████| 1648877/1648877 [00:00<00:00, 23009942.73it/s]"
          ]
        },
        {
          "output_type": "stream",
          "name": "stdout",
          "text": [
            "Extracting ./mnist/MNIST/raw/t10k-images-idx3-ubyte.gz to ./mnist/MNIST/raw\n"
          ]
        },
        {
          "output_type": "stream",
          "name": "stderr",
          "text": [
            "\n"
          ]
        },
        {
          "output_type": "stream",
          "name": "stdout",
          "text": [
            "\n",
            "Downloading http://yann.lecun.com/exdb/mnist/t10k-labels-idx1-ubyte.gz\n",
            "Downloading http://yann.lecun.com/exdb/mnist/t10k-labels-idx1-ubyte.gz to ./mnist/MNIST/raw/t10k-labels-idx1-ubyte.gz\n"
          ]
        },
        {
          "output_type": "stream",
          "name": "stderr",
          "text": [
            "100%|██████████| 4542/4542 [00:00<00:00, 7224318.84it/s]\n"
          ]
        },
        {
          "output_type": "stream",
          "name": "stdout",
          "text": [
            "Extracting ./mnist/MNIST/raw/t10k-labels-idx1-ubyte.gz to ./mnist/MNIST/raw\n",
            "\n"
          ]
        }
      ],
      "source": [
        "from torch.utils.data import DataLoader\n",
        "from torchvision import datasets, transforms\n",
        "\n",
        "train_dataset = datasets.MNIST(\n",
        "    root=\"./mnist\", train=True, transform=transforms.ToTensor(), download=True\n",
        ")\n",
        "\n",
        "test_dataset = datasets.MNIST(\n",
        "    root=\"./mnist\", train=False, transform=transforms.ToTensor()\n",
        ")"
      ]
    },
    {
      "cell_type": "code",
      "execution_count": 2,
      "id": "6661307a-6220-48d5-b965-4cd36e29e54c",
      "metadata": {
        "colab": {
          "base_uri": "https://localhost:8080/"
        },
        "id": "6661307a-6220-48d5-b965-4cd36e29e54c",
        "outputId": "89517bca-d08f-4d6d-cc0c-d0b1751ba5d6"
      },
      "outputs": [
        {
          "output_type": "execute_result",
          "data": {
            "text/plain": [
              "60000"
            ]
          },
          "metadata": {},
          "execution_count": 2
        }
      ],
      "source": [
        "len(train_dataset)"
      ]
    },
    {
      "cell_type": "code",
      "execution_count": 3,
      "id": "78adc94e-5418-4aac-9a82-9a9cbf8fc688",
      "metadata": {
        "colab": {
          "base_uri": "https://localhost:8080/"
        },
        "id": "78adc94e-5418-4aac-9a82-9a9cbf8fc688",
        "outputId": "861807b3-21be-4cd8-9414-b1a7421e034b"
      },
      "outputs": [
        {
          "output_type": "execute_result",
          "data": {
            "text/plain": [
              "10000"
            ]
          },
          "metadata": {},
          "execution_count": 3
        }
      ],
      "source": [
        "len(test_dataset)"
      ]
    },
    {
      "cell_type": "markdown",
      "id": "765adcf0-9147-434b-917a-f6d736a7117e",
      "metadata": {
        "id": "765adcf0-9147-434b-917a-f6d736a7117e"
      },
      "source": [
        "### Create a validation set"
      ]
    },
    {
      "cell_type": "code",
      "execution_count": 4,
      "id": "b39a42a2-cd46-46cf-ba93-d3f2f232f29c",
      "metadata": {
        "id": "b39a42a2-cd46-46cf-ba93-d3f2f232f29c"
      },
      "outputs": [],
      "source": [
        "import torch\n",
        "from torch.utils.data.dataset import random_split\n",
        "\n",
        "torch.manual_seed(1)\n",
        "train_dataset, val_dataset = random_split(train_dataset, lengths=[55000, 5000])"
      ]
    },
    {
      "cell_type": "code",
      "execution_count": 5,
      "id": "b30e4a70-55b3-4fb0-b28d-b0fddd193fae",
      "metadata": {
        "id": "b30e4a70-55b3-4fb0-b28d-b0fddd193fae"
      },
      "outputs": [],
      "source": [
        "train_loader = DataLoader(\n",
        "    dataset=train_dataset,\n",
        "    batch_size=64,\n",
        "    shuffle=True,\n",
        ")\n",
        "\n",
        "val_loader = DataLoader(\n",
        "    dataset=val_dataset,\n",
        "    batch_size=64,\n",
        "    shuffle=False,\n",
        ")\n",
        "\n",
        "test_loader = DataLoader(\n",
        "    dataset=test_dataset,\n",
        "    batch_size=64,\n",
        "    shuffle=False,\n",
        ")"
      ]
    },
    {
      "cell_type": "markdown",
      "id": "db50db02-3696-4f86-b149-74baabeec6c4",
      "metadata": {
        "id": "db50db02-3696-4f86-b149-74baabeec6c4"
      },
      "source": [
        "## 3) Implementing the model"
      ]
    },
    {
      "cell_type": "code",
      "execution_count": 18,
      "id": "971389a7-5424-4141-a3ee-9399eebbbb6a",
      "metadata": {
        "id": "971389a7-5424-4141-a3ee-9399eebbbb6a"
      },
      "outputs": [],
      "source": [
        "import torch\n",
        "\n",
        "class PyTorchMLP(torch.nn.Module):\n",
        "    def __init__(self, num_features, num_classes):\n",
        "        super().__init__()\n",
        "\n",
        "        self.all_layers = torch.nn.Sequential(\n",
        "            # 1st hidden layer\n",
        "            torch.nn.Linear(num_features, 50),\n",
        "            torch.nn.ReLU(),\n",
        "            # output layer\n",
        "            torch.nn.Linear(50, num_classes),\n",
        "        )\n",
        "\n",
        "    def forward(self, x):\n",
        "        x = torch.flatten(x, start_dim=1)\n",
        "        logits = self.all_layers(x)\n",
        "        return logits"
      ]
    },
    {
      "cell_type": "markdown",
      "id": "46bc16a0-ec59-4c54-a209-0a5e22406287",
      "metadata": {
        "id": "46bc16a0-ec59-4c54-a209-0a5e22406287"
      },
      "source": [
        "## 4) The training loop"
      ]
    },
    {
      "cell_type": "code",
      "execution_count": 7,
      "id": "8de213fc-48b0-4f7c-af9e-8e2da068e351",
      "metadata": {
        "id": "8de213fc-48b0-4f7c-af9e-8e2da068e351"
      },
      "outputs": [],
      "source": [
        "def compute_accuracy(model, dataloader):\n",
        "\n",
        "    model = model.eval()\n",
        "\n",
        "    correct = 0.0\n",
        "    total_examples = 0\n",
        "\n",
        "    for idx, (features, labels) in enumerate(dataloader):\n",
        "\n",
        "        with torch.no_grad():\n",
        "            logits = model(features)\n",
        "\n",
        "        predictions = torch.argmax(logits, dim=1)\n",
        "\n",
        "        compare = labels == predictions\n",
        "        correct += torch.sum(compare)\n",
        "        total_examples += len(compare)\n",
        "\n",
        "    return correct / total_examples"
      ]
    },
    {
      "cell_type": "code",
      "execution_count": 23,
      "id": "3dcaa2b1-4019-4128-9ff5-6a966c3abdf2",
      "metadata": {
        "colab": {
          "base_uri": "https://localhost:8080/"
        },
        "id": "3dcaa2b1-4019-4128-9ff5-6a966c3abdf2",
        "outputId": "dbd59abe-7f76-48d4-c41f-018520461433"
      },
      "outputs": [
        {
          "output_type": "stream",
          "name": "stdout",
          "text": [
            "Epoch: 001/010 | Batch 000/860 | Train Loss: 2.32\n",
            "Epoch: 001/010 | Batch 250/860 | Train Loss: 0.56\n",
            "Epoch: 001/010 | Batch 500/860 | Train Loss: 0.35\n",
            "Epoch: 001/010 | Batch 750/860 | Train Loss: 0.31\n",
            "Train Acc 91.93% | Val Acc 91.88%\n",
            "Epoch: 002/010 | Batch 000/860 | Train Loss: 0.31\n",
            "Epoch: 002/010 | Batch 250/860 | Train Loss: 0.17\n",
            "Epoch: 002/010 | Batch 500/860 | Train Loss: 0.17\n",
            "Epoch: 002/010 | Batch 750/860 | Train Loss: 0.24\n",
            "Train Acc 94.05% | Val Acc 93.18%\n",
            "Epoch: 003/010 | Batch 000/860 | Train Loss: 0.34\n",
            "Epoch: 003/010 | Batch 250/860 | Train Loss: 0.20\n",
            "Epoch: 003/010 | Batch 500/860 | Train Loss: 0.08\n",
            "Epoch: 003/010 | Batch 750/860 | Train Loss: 0.16\n",
            "Train Acc 95.08% | Val Acc 94.44%\n",
            "Epoch: 004/010 | Batch 000/860 | Train Loss: 0.33\n",
            "Epoch: 004/010 | Batch 250/860 | Train Loss: 0.05\n",
            "Epoch: 004/010 | Batch 500/860 | Train Loss: 0.12\n",
            "Epoch: 004/010 | Batch 750/860 | Train Loss: 0.22\n",
            "Train Acc 95.67% | Val Acc 94.68%\n",
            "Epoch: 005/010 | Batch 000/860 | Train Loss: 0.16\n",
            "Epoch: 005/010 | Batch 250/860 | Train Loss: 0.20\n",
            "Epoch: 005/010 | Batch 500/860 | Train Loss: 0.26\n",
            "Epoch: 005/010 | Batch 750/860 | Train Loss: 0.13\n",
            "Train Acc 96.47% | Val Acc 95.56%\n",
            "Epoch: 006/010 | Batch 000/860 | Train Loss: 0.14\n",
            "Epoch: 006/010 | Batch 250/860 | Train Loss: 0.05\n",
            "Epoch: 006/010 | Batch 500/860 | Train Loss: 0.12\n",
            "Epoch: 006/010 | Batch 750/860 | Train Loss: 0.05\n",
            "Train Acc 96.94% | Val Acc 95.60%\n",
            "Epoch: 007/010 | Batch 000/860 | Train Loss: 0.18\n",
            "Epoch: 007/010 | Batch 250/860 | Train Loss: 0.04\n",
            "Epoch: 007/010 | Batch 500/860 | Train Loss: 0.09\n",
            "Epoch: 007/010 | Batch 750/860 | Train Loss: 0.07\n",
            "Train Acc 97.09% | Val Acc 95.78%\n",
            "Epoch: 008/010 | Batch 000/860 | Train Loss: 0.20\n",
            "Epoch: 008/010 | Batch 250/860 | Train Loss: 0.08\n",
            "Epoch: 008/010 | Batch 500/860 | Train Loss: 0.05\n",
            "Epoch: 008/010 | Batch 750/860 | Train Loss: 0.07\n",
            "Train Acc 97.29% | Val Acc 96.12%\n",
            "Epoch: 009/010 | Batch 000/860 | Train Loss: 0.13\n",
            "Epoch: 009/010 | Batch 250/860 | Train Loss: 0.08\n",
            "Epoch: 009/010 | Batch 500/860 | Train Loss: 0.03\n",
            "Epoch: 009/010 | Batch 750/860 | Train Loss: 0.09\n",
            "Train Acc 97.71% | Val Acc 96.68%\n",
            "Epoch: 010/010 | Batch 000/860 | Train Loss: 0.05\n",
            "Epoch: 010/010 | Batch 250/860 | Train Loss: 0.04\n",
            "Epoch: 010/010 | Batch 500/860 | Train Loss: 0.03\n",
            "Epoch: 010/010 | Batch 750/860 | Train Loss: 0.09\n",
            "Train Acc 97.79% | Val Acc 96.48%\n"
          ]
        }
      ],
      "source": [
        "import torch.nn.functional as F\n",
        "\n",
        "torch.manual_seed(1)\n",
        "model = PyTorchMLP(num_features=784, num_classes=10)\n",
        "\n",
        "optimizer = torch.optim.SGD(model.parameters(), lr=0.1)\n",
        "\n",
        "num_epochs = 10\n",
        "\n",
        "loss_list = []\n",
        "train_acc_list, val_acc_list = [], []\n",
        "for epoch in range(num_epochs):\n",
        "\n",
        "    model = model.train()\n",
        "    for batch_idx, (features, labels) in enumerate(train_loader):\n",
        "\n",
        "        logits = model(features)\n",
        "\n",
        "        loss = F.cross_entropy(logits, labels)\n",
        "\n",
        "        optimizer.zero_grad()\n",
        "        loss.backward()\n",
        "        optimizer.step()\n",
        "\n",
        "        if not batch_idx % 250:\n",
        "            ### LOGGING\n",
        "            print(\n",
        "                f\"Epoch: {epoch+1:03d}/{num_epochs:03d}\"\n",
        "                f\" | Batch {batch_idx:03d}/{len(train_loader):03d}\"\n",
        "                f\" | Train Loss: {loss:.2f}\"\n",
        "            )\n",
        "        loss_list.append(loss.item())\n",
        "\n",
        "    train_acc = compute_accuracy(model, train_loader)\n",
        "    val_acc = compute_accuracy(model, val_loader)\n",
        "    print(f\"Train Acc {train_acc*100:.2f}% | Val Acc {val_acc*100:.2f}%\")\n",
        "    train_acc_list.append(train_acc)\n",
        "    val_acc_list.append(val_acc)"
      ]
    },
    {
      "cell_type": "markdown",
      "id": "bb0d5821-7c8d-46b5-9e7d-02e72cac2acc",
      "metadata": {
        "id": "bb0d5821-7c8d-46b5-9e7d-02e72cac2acc"
      },
      "source": [
        "## 7) Evaluating the results"
      ]
    },
    {
      "cell_type": "code",
      "execution_count": 24,
      "id": "27538c8d-61bc-47b0-8289-b6aab4aa16ed",
      "metadata": {
        "colab": {
          "base_uri": "https://localhost:8080/"
        },
        "id": "27538c8d-61bc-47b0-8289-b6aab4aa16ed",
        "outputId": "6f3ce039-b98c-4cd7-fa4c-47fa19bed5ac"
      },
      "outputs": [
        {
          "output_type": "stream",
          "name": "stdout",
          "text": [
            "Train Acc 97.79%\n",
            "Val Acc 96.48%\n",
            "Test Acc 96.88%\n"
          ]
        }
      ],
      "source": [
        "train_acc = compute_accuracy(model, train_loader)\n",
        "val_acc = compute_accuracy(model, val_loader)\n",
        "test_acc = compute_accuracy(model, test_loader)\n",
        "\n",
        "print(f\"Train Acc {train_acc*100:.2f}%\")\n",
        "print(f\"Val Acc {val_acc*100:.2f}%\")\n",
        "print(f\"Test Acc {test_acc*100:.2f}%\")"
      ]
    },
    {
      "cell_type": "code",
      "source": [
        "import os\n",
        "\n",
        "import matplotlib.pyplot as plt\n",
        "import numpy as np\n",
        "import torch\n",
        "\n",
        "\n",
        "def plot_training_loss(\n",
        "    minibatch_loss_list,\n",
        "    num_epochs,\n",
        "    iter_per_epoch,\n",
        "    results_dir=None,\n",
        "    averaging_iterations=100,\n",
        "):\n",
        "\n",
        "    plt.figure()\n",
        "    ax1 = plt.subplot(1, 1, 1)\n",
        "    ax1.plot(\n",
        "        range(len(minibatch_loss_list)), (minibatch_loss_list), label=\"Minibatch Loss\"\n",
        "    )\n",
        "\n",
        "    if len(minibatch_loss_list) > 1000:\n",
        "        ax1.set_ylim([0, np.max(minibatch_loss_list[1000:]) * 1.5])\n",
        "    ax1.set_xlabel(\"Iterations\")\n",
        "    ax1.set_ylabel(\"Loss\")\n",
        "\n",
        "    ax1.plot(\n",
        "        np.convolve(\n",
        "            minibatch_loss_list,\n",
        "            np.ones(\n",
        "                averaging_iterations,\n",
        "            )\n",
        "            / averaging_iterations,\n",
        "            mode=\"valid\",\n",
        "        ),\n",
        "        label=\"Running Average\",\n",
        "    )\n",
        "    ax1.legend()\n",
        "\n",
        "    ###################\n",
        "    # Set scond x-axis\n",
        "    ax2 = ax1.twiny()\n",
        "    newlabel = list(range(num_epochs + 1))\n",
        "\n",
        "    newpos = [e * iter_per_epoch for e in newlabel]\n",
        "\n",
        "    ax2.set_xticks(newpos[::10])\n",
        "    ax2.set_xticklabels(newlabel[::10])\n",
        "\n",
        "    ax2.xaxis.set_ticks_position(\"bottom\")\n",
        "    ax2.xaxis.set_label_position(\"bottom\")\n",
        "    ax2.spines[\"bottom\"].set_position((\"outward\", 45))\n",
        "    ax2.set_xlabel(\"Epochs\")\n",
        "    ax2.set_xlim(ax1.get_xlim())\n",
        "    ###################\n",
        "\n",
        "    plt.tight_layout()\n",
        "\n",
        "    if results_dir is not None:\n",
        "        image_path = os.path.join(results_dir, \"plot_training_loss.pdf\")\n",
        "        plt.savefig(image_path)\n",
        "\n",
        "\n",
        "def plot_accuracy(train_acc_list, valid_acc_list, results_dir=None):\n",
        "\n",
        "    num_epochs = len(train_acc_list)\n",
        "\n",
        "    plt.plot(np.arange(1, num_epochs + 1), train_acc_list, label=\"Training\")\n",
        "    plt.plot(np.arange(1, num_epochs + 1), valid_acc_list, label=\"Validation\")\n",
        "\n",
        "    plt.xlabel(\"Epoch\")\n",
        "    plt.ylabel(\"Accuracy\")\n",
        "    plt.legend()\n",
        "\n",
        "    plt.tight_layout()\n",
        "\n",
        "    if results_dir is not None:\n",
        "        image_path = os.path.join(results_dir, \"plot_acc_training_validation.pdf\")\n",
        "        plt.savefig(image_path)\n",
        "\n",
        "\n",
        "def show_examples(model, data_loader, unnormalizer=None, class_dict=None):\n",
        "\n",
        "    fail_features, fail_targets, fail_predicted = [], [], []\n",
        "    for batch_idx, (features, targets) in enumerate(data_loader):\n",
        "\n",
        "        with torch.no_grad():\n",
        "            logits = model(features)\n",
        "            predictions = torch.argmax(logits, dim=1)\n",
        "\n",
        "            mask = targets != predictions\n",
        "\n",
        "            fail_features.extend(features[mask])\n",
        "            fail_targets.extend(targets[mask])\n",
        "            fail_predicted.extend(predictions[mask])\n",
        "\n",
        "        if len(fail_targets) > 15:\n",
        "            break\n",
        "\n",
        "    fail_features = torch.cat(fail_features)\n",
        "    fail_targets = torch.tensor(fail_targets)\n",
        "    fail_predicted = torch.tensor(fail_predicted)\n",
        "\n",
        "    fig, axes = plt.subplots(nrows=3, ncols=5, sharex=True, sharey=True)\n",
        "\n",
        "    if unnormalizer is not None:\n",
        "        for idx in range(fail_features.shape[0]):\n",
        "            features[idx] = unnormalizer(fail_features[idx])\n",
        "\n",
        "    if fail_features.ndim == 4:\n",
        "        nhwc_img = np.transpose(fail_features, axes=(0, 2, 3, 1))\n",
        "        nhw_img = np.squeeze(nhwc_img.numpy(), axis=3)\n",
        "\n",
        "        for idx, ax in enumerate(axes.ravel()):\n",
        "            ax.imshow(nhw_img[idx], cmap=\"binary\")\n",
        "            if class_dict is not None:\n",
        "                ax.title.set_text(\n",
        "                    f\"P: {class_dict[fail_predicted[idx].item()]}\"\n",
        "                    f\"\\nT: {class_dict[fail_targets[idx].item()]}\"\n",
        "                )\n",
        "            else:\n",
        "                ax.title.set_text(f\"P: {fail_predicted[idx]} | T: {fail_targets[idx]}\")\n",
        "            ax.axison = False\n",
        "\n",
        "    else:\n",
        "\n",
        "        for idx, ax in enumerate(axes.ravel()):\n",
        "            ax.imshow(fail_features[idx], cmap=\"binary\")\n",
        "            if class_dict is not None:\n",
        "                ax.title.set_text(\n",
        "                    f\"P: {class_dict[fail_predicted[idx].item()]}\"\n",
        "                    f\"\\nT: {class_dict[fail_targets[idx].item()]}\"\n",
        "                )\n",
        "            else:\n",
        "                ax.title.set_text(f\"P: {fail_predicted[idx]} | T: {targets[idx]}\")\n",
        "            ax.axison = False\n",
        "    plt.tight_layout()\n",
        "    plt.show()"
      ],
      "metadata": {
        "id": "9ODBtWzLtucP"
      },
      "id": "9ODBtWzLtucP",
      "execution_count": 11,
      "outputs": []
    },
    {
      "cell_type": "code",
      "execution_count": 25,
      "id": "0f1f8499-3191-4f78-b2d4-82daba9b9bc0",
      "metadata": {
        "colab": {
          "base_uri": "https://localhost:8080/",
          "height": 487
        },
        "id": "0f1f8499-3191-4f78-b2d4-82daba9b9bc0",
        "outputId": "c367da7f-40d0-4150-9c39-dfadb5316e74"
      },
      "outputs": [
        {
          "output_type": "display_data",
          "data": {
            "text/plain": [
              "<Figure size 640x480 with 2 Axes>"
            ],
            "image/png": "[encoded data removed]"
          },
          "metadata": {}
        }
      ],
      "source": [
        "#from helper_plotting import plot_training_loss\n",
        "\n",
        "plot_training_loss(minibatch_loss_list=loss_list,\n",
        "                   num_epochs=num_epochs,\n",
        "                   iter_per_epoch=len(loss_list)//num_epochs)"
      ]
    },
    {
      "cell_type": "code",
      "execution_count": 26,
      "id": "bf9d4519-b7a2-4382-90d0-a0dce2ee608e",
      "metadata": {
        "colab": {
          "base_uri": "https://localhost:8080/",
          "height": 486
        },
        "id": "bf9d4519-b7a2-4382-90d0-a0dce2ee608e",
        "outputId": "04c82058-731c-4763-fbaf-53a97a387008"
      },
      "outputs": [
        {
          "output_type": "display_data",
          "data": {
            "text/plain": [
              "<Figure size 640x480 with 1 Axes>"
            ],
            "image/png": "[encoded data removed]"
          },
          "metadata": {}
        }
      ],
      "source": [
        "#from helper_plotting import plot_accuracy\n",
        "\n",
        "plot_accuracy(train_acc_list=train_acc_list, valid_acc_list=val_acc_list)"
      ]
    },
    {
      "cell_type": "code",
      "source": [],
      "metadata": {
        "id": "jWUIQ8Unt3_t"
      },
      "id": "jWUIQ8Unt3_t",
      "execution_count": null,
      "outputs": []
    }
  ],
  "metadata": {
    "kernelspec": {
      "display_name": "Python 3 (ipykernel)",
      "language": "python",
      "name": "python3"
    },
    "language_info": {
      "codemirror_mode": {
        "name": "ipython",
        "version": 3
      },
      "file_extension": ".py",
      "mimetype": "text/x-python",
      "name": "python",
      "nbconvert_exporter": "python",
      "pygments_lexer": "ipython3",
      "version": "3.10.9"
    },
    "colab": {
      "provenance": [],
      "include_colab_link": true
    }
  },
  "nbformat": 4,
  "nbformat_minor": 5
}